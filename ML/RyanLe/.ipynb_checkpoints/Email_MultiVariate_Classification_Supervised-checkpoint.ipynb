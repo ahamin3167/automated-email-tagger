{
 "cells": [
  {
   "cell_type": "code",
   "execution_count": 2,
   "id": "exact-musical",
   "metadata": {},
   "outputs": [],
   "source": [
    "import matplotlib.pyplot as plt\n",
    "from gensim.models import KeyedVectors\n",
    "from gensim.scripts.glove2word2vec import glove2word2vec\n",
    "import time\n",
    "from sklearn.preprocessing import LabelEncoder\n",
    "from sklearn.model_selection import train_test_split\n",
    "\n",
    "from keras.preprocessing.text import Tokenizer\n",
    "from keras.preprocessing.sequence import pad_sequences\n",
    "from keras.models import Sequential\n",
    "\n",
    "from keras.layers import Dense, LSTM, Flatten, Embedding, LeakyReLU\n",
    "from keras.utils import to_categorical\n",
    "from keras.backend import clear_session\n",
    "\n",
    "import pandas as pd\n",
    "import numpy as np\n",
    "import os"
   ]
  },
  {
   "cell_type": "code",
   "execution_count": 3,
   "id": "prostate-therapist",
   "metadata": {},
   "outputs": [],
   "source": [
    "# load Google's pre-trained word2vec embeddings\n",
    "word2vec_file = \"/Users/ryanle/Desktop/GTSpring2021/CS4440/Project/NLP/GoogleNews-vectors-negative300.bin\"\n",
    "google_embeddings = KeyedVectors.load_word2vec_format(word2vec_file, binary=True)"
   ]
  },
  {
   "cell_type": "code",
   "execution_count": 4,
   "id": "artistic-congo",
   "metadata": {},
   "outputs": [
    {
     "name": "stdout",
     "output_type": "stream",
     "text": [
      "Len: (300,)\n"
     ]
    }
   ],
   "source": [
    "print(\"Len: {}\".format(google_embeddings[\"hello\"].shape)) # array of (300000, 300)"
   ]
  },
  {
   "cell_type": "code",
   "execution_count": 5,
   "id": "floppy-wyoming",
   "metadata": {},
   "outputs": [
    {
     "name": "stderr",
     "output_type": "stream",
     "text": [
      "<ipython-input-5-91f7faadf958>:5: DeprecationWarning: Call to deprecated `glove2word2vec` (KeyedVectors.load_word2vec_format(.., binary=False, no_header=True) loads GLoVE text vectors.).\n",
      "  glove2word2vec(glove_file, glove_word2vec_file)\n"
     ]
    },
    {
     "data": {
      "text/plain": [
       "(400001, 300)"
      ]
     },
     "execution_count": 5,
     "metadata": {},
     "output_type": "execute_result"
    }
   ],
   "source": [
    "# load Stanford's pre-trained GloVe embeddings\n",
    "glove_file = \"/Users/ryanle/Desktop/GTSpring2021/CS4440/Project/NLP/glove/glove.6B/glove.6B.300d.txt\"\n",
    "glove_word2vec_file = \"/Users/ryanle/Desktop/GTSpring2021/CS4440/Project/NLP/glove/glove.6B/glove.6B.100d.txt.word2vec\"\n",
    "\n",
    "glove2word2vec(glove_file, glove_word2vec_file)"
   ]
  },
  {
   "cell_type": "code",
   "execution_count": 6,
   "id": "instructional-paris",
   "metadata": {},
   "outputs": [],
   "source": [
    "# glove embeddings\n",
    "glove_embeddings = KeyedVectors.load_word2vec_format(glove_word2vec_file, binary=False)\n"
   ]
  },
  {
   "cell_type": "code",
   "execution_count": 7,
   "id": "national-director",
   "metadata": {},
   "outputs": [],
   "source": [
    "# personal / professional dir\n",
    "#pp_dir = \"/Users/ryanle/Desktop/GTSpring2021/CS4440/Project/Dataset/professional_personal.csv\"\n",
    "pp_dir = \"/Users/ryanle/Desktop/GTSpring2021/CS4440/Project/Dataset/professional_personal_v2.csv\"\n"
   ]
  },
  {
   "cell_type": "code",
   "execution_count": 8,
   "id": "fossil-burner",
   "metadata": {},
   "outputs": [],
   "source": [
    "# load data\n",
    "data = pd.read_csv(pp_dir)\n"
   ]
  },
  {
   "cell_type": "code",
   "execution_count": 9,
   "id": "fatty-special",
   "metadata": {},
   "outputs": [
    {
     "data": {
      "text/html": [
       "<div>\n",
       "<style scoped>\n",
       "    .dataframe tbody tr th:only-of-type {\n",
       "        vertical-align: middle;\n",
       "    }\n",
       "\n",
       "    .dataframe tbody tr th {\n",
       "        vertical-align: top;\n",
       "    }\n",
       "\n",
       "    .dataframe thead th {\n",
       "        text-align: right;\n",
       "    }\n",
       "</style>\n",
       "<table border=\"1\" class=\"dataframe\">\n",
       "  <thead>\n",
       "    <tr style=\"text-align: right;\">\n",
       "      <th></th>\n",
       "      <th>date</th>\n",
       "      <th>X-Folder</th>\n",
       "      <th>X-From</th>\n",
       "      <th>X-To</th>\n",
       "      <th>text</th>\n",
       "    </tr>\n",
       "  </thead>\n",
       "  <tbody>\n",
       "    <tr>\n",
       "      <th>0</th>\n",
       "      <td>13-12-2000 08:56:00</td>\n",
       "      <td>Personal</td>\n",
       "      <td>\"Dell Computer Corp.\" &lt;LB_Electronic_Orders@de...</td>\n",
       "      <td>\"jennifer.medcalf@enron.com\" &lt;jennifer.medcalf...</td>\n",
       "      <td>dell order confirmation dear jennifer medcalf...</td>\n",
       "    </tr>\n",
       "    <tr>\n",
       "      <th>1</th>\n",
       "      <td>14-12-2000 04:55:00</td>\n",
       "      <td>Personal</td>\n",
       "      <td>James Wininger</td>\n",
       "      <td>Jennifer Medcalf</td>\n",
       "      <td>brown bag thank dear jennifer thank hosting b...</td>\n",
       "    </tr>\n",
       "    <tr>\n",
       "      <th>2</th>\n",
       "      <td>14-12-2000 04:58:00</td>\n",
       "      <td>Personal</td>\n",
       "      <td>Jerome_Alder@Dell.com</td>\n",
       "      <td>jennifer.medcalf@enron.com</td>\n",
       "      <td>dell online order dell enron clickathome orde...</td>\n",
       "    </tr>\n",
       "    <tr>\n",
       "      <th>3</th>\n",
       "      <td>14-12-2000 05:22:00</td>\n",
       "      <td>Personal</td>\n",
       "      <td>Colleen Koenig</td>\n",
       "      <td>Jennifer Medcalf</td>\n",
       "      <td>update attendees brown bags 12 13 12 14 notic...</td>\n",
       "    </tr>\n",
       "    <tr>\n",
       "      <th>4</th>\n",
       "      <td>15-12-2000 00:32:00</td>\n",
       "      <td>Personal</td>\n",
       "      <td>Jennifer N Stewart</td>\n",
       "      <td>Jennifer Medcalf</td>\n",
       "      <td>confirmation order 3253472 hope well forwarde...</td>\n",
       "    </tr>\n",
       "  </tbody>\n",
       "</table>\n",
       "</div>"
      ],
      "text/plain": [
       "                  date  X-Folder  \\\n",
       "0  13-12-2000 08:56:00  Personal   \n",
       "1  14-12-2000 04:55:00  Personal   \n",
       "2  14-12-2000 04:58:00  Personal   \n",
       "3  14-12-2000 05:22:00  Personal   \n",
       "4  15-12-2000 00:32:00  Personal   \n",
       "\n",
       "                                              X-From  \\\n",
       "0  \"Dell Computer Corp.\" <LB_Electronic_Orders@de...   \n",
       "1                                     James Wininger   \n",
       "2                              Jerome_Alder@Dell.com   \n",
       "3                                     Colleen Koenig   \n",
       "4                                 Jennifer N Stewart   \n",
       "\n",
       "                                                X-To  \\\n",
       "0  \"jennifer.medcalf@enron.com\" <jennifer.medcalf...   \n",
       "1                                   Jennifer Medcalf   \n",
       "2                         jennifer.medcalf@enron.com   \n",
       "3                                   Jennifer Medcalf   \n",
       "4                                   Jennifer Medcalf   \n",
       "\n",
       "                                                text  \n",
       "0   dell order confirmation dear jennifer medcalf...  \n",
       "1   brown bag thank dear jennifer thank hosting b...  \n",
       "2   dell online order dell enron clickathome orde...  \n",
       "3   update attendees brown bags 12 13 12 14 notic...  \n",
       "4   confirmation order 3253472 hope well forwarde...  "
      ]
     },
     "execution_count": 9,
     "metadata": {},
     "output_type": "execute_result"
    }
   ],
   "source": [
    "data.head()\n"
   ]
  },
  {
   "cell_type": "code",
   "execution_count": 10,
   "id": "outstanding-latino",
   "metadata": {},
   "outputs": [
    {
     "data": {
      "text/plain": [
       "Professional    2485\n",
       "Personal        2485\n",
       "Name: X-Folder, dtype: int64"
      ]
     },
     "execution_count": 10,
     "metadata": {},
     "output_type": "execute_result"
    }
   ],
   "source": [
    "# side of each folder\n",
    "data[\"X-Folder\"].value_counts()"
   ]
  },
  {
   "cell_type": "code",
   "execution_count": 11,
   "id": "homeless-adobe",
   "metadata": {},
   "outputs": [
    {
     "data": {
      "text/plain": [
       "array(['Personal', 'Professional'], dtype=object)"
      ]
     },
     "execution_count": 11,
     "metadata": {},
     "output_type": "execute_result"
    }
   ],
   "source": [
    "# encoding class labels\n",
    "data[\"X-Folder\"].unique()\n"
   ]
  },
  {
   "cell_type": "code",
   "execution_count": 12,
   "id": "lesbian-tactics",
   "metadata": {},
   "outputs": [],
   "source": [
    "def label_encoder(data):\n",
    "    class_le = LabelEncoder()\n",
    "    # apply label encoder on the 'X-Folder' column\n",
    "    y = class_le.fit_transform(data['X-Folder'])\n",
    "    return y"
   ]
  },
  {
   "cell_type": "code",
   "execution_count": 13,
   "id": "interstate-amplifier",
   "metadata": {},
   "outputs": [],
   "source": [
    "y = label_encoder(data)\n",
    "input_data = data['text']\n"
   ]
  },
  {
   "cell_type": "code",
   "execution_count": 62,
   "id": "eight-webster",
   "metadata": {},
   "outputs": [],
   "source": [
    "X_train, X_test, y_train, y_test = train_test_split(input_data, y, test_size=0.2)\n"
   ]
  },
  {
   "cell_type": "code",
   "execution_count": 63,
   "id": "vertical-ideal",
   "metadata": {},
   "outputs": [],
   "source": [
    "# removing biases\n",
    "from random import randint \n",
    "'''\n",
    "# creating equal distribution of personal/professional data \n",
    "def make_equal(df1, df2):\n",
    "    remove_n = df2.shape[0] - df1.shape[0]\n",
    "    if remove_n > 0:\n",
    "        # more in professional / df2\n",
    "        drop_indices = np.random.choice(df2.index, remove_n, replace=False)\n",
    "        df2 = df2.drop(drop_indices)\n",
    "    elif remove_n < 0:\n",
    "        drop_indices = np.random.choice(df1.index, -remove_n, replace=False)\n",
    "        df1 = df1.drop(drop_indices)\n",
    "    return df1, df2 \n",
    "'''\n",
    "def remove_bias(x, y):\n",
    "    zeros = np.count_nonzero(y == 0)\n",
    "    ones = np.count_nonzero(y == 1)\n",
    "    print(\"Before Zero: {}, Ones: {}\".format(zeros, ones))\n",
    "    drop_indices = []\n",
    "    x = x.to_numpy()    \n",
    "    difference = ones - zeros  # subtract from here to change the bias\n",
    "    if difference > 0:\n",
    "        ones_index = np.where(y == 1)[0]\n",
    "        drop_indices = np.random.choice(ones_index, difference, replace=False)\n",
    "    elif difference < 0:\n",
    "        zeros_index = np.where(y == 0)[0]\n",
    "        drop_indices = np.random.choice(zeros_index, -difference, replace=False)\n",
    "    x = np.delete(x, drop_indices)\n",
    "    x = pd.Series(x)\n",
    "    y = np.delete(y, drop_indices)\n",
    "    zeros = np.count_nonzero(y == 0)\n",
    "    ones = np.count_nonzero(y == 1)\n",
    "    print(\"After Zero: {}, Ones: {}\".format(zeros, ones))\n",
    "    return x, y"
   ]
  },
  {
   "cell_type": "code",
   "execution_count": 64,
   "id": "suitable-adjustment",
   "metadata": {},
   "outputs": [
    {
     "name": "stdout",
     "output_type": "stream",
     "text": [
      "Before - X train: (3976,), Y train: (3976,), X test: (994,), Y test: (994,)\n",
      "Before Zero: 2003, Ones: 1973\n",
      "After Zero: 1973, Ones: 1973\n",
      "Before Zero: 482, Ones: 512\n",
      "After Zero: 482, Ones: 482\n",
      "After - X train: (3946,), Y train: (3946,), X test: (964,), Y test: (964,)\n"
     ]
    }
   ],
   "source": [
    "# removing biases \n",
    "print(\"Before - X train: {}, Y train: {}, X test: {}, Y test: {}\".format(X_train.shape, y_train.shape, X_test.shape, y_test.shape))\n",
    "X_train, y_train = remove_bias(X_train, y_train)\n",
    "X_test, y_test = remove_bias(X_test, y_test)\n",
    "print(\"After - X train: {}, Y train: {}, X test: {}, Y test: {}\".format(X_train.shape, y_train.shape, X_test.shape, y_test.shape))\n"
   ]
  },
  {
   "cell_type": "code",
   "execution_count": 66,
   "id": "seventh-sight",
   "metadata": {},
   "outputs": [],
   "source": [
    "# one-hot encode the output labels\n",
    "Y_train = to_categorical(y_train, 2)\n",
    "Y_test = to_categorical(y_test, 2)\n"
   ]
  },
  {
   "cell_type": "code",
   "execution_count": 67,
   "id": "behind-effectiveness",
   "metadata": {},
   "outputs": [],
   "source": [
    "# prepare tokenizer\n",
    "t = Tokenizer()\n",
    "\n",
    "# fit the tokenizer on the docs\n",
    "t.fit_on_texts(input_data) # input_data == Series\n",
    "vocab_size = len(t.word_index) + 1\n",
    "\n",
    "# integer encode the documents\n",
    "X_train_encoded_docs = t.texts_to_sequences(X_train)\n",
    "X_test_encoded_docs = t.texts_to_sequences(X_test)"
   ]
  },
  {
   "cell_type": "code",
   "execution_count": 68,
   "id": "compatible-native",
   "metadata": {},
   "outputs": [
    {
     "name": "stdout",
     "output_type": "stream",
     "text": [
      "[  524   157  1236   134  1017   286   368  1855   631   658  1660  7765\n",
      "   524   458  1726    81   893  6821    86  1202   469   101   227  3753\n",
      "  1015  5514   372   124  1136  1874   376  3675 12233  4393  4877 26624\n",
      "  1144  1261  1600  3676   111   395  1600  1003   419   285  7217   192\n",
      "  5773  9048 26625   458  1051  4243   101  9049  3516 26626  1391  1409\n",
      "   180    13    69   285   125  1996   157 19634  3235   582 11014   481\n",
      "   101  7235  5263   524  1726   458  1236    49  3643    13   362  1207\n",
      " 19635   988   328   383  1319   135  1232  1236  1175    45  1007  1319\n",
      "   286   855    86  8356 26627   253  1136  4877   204  1682  2355    91\n",
      "    73   395   681   581   249   160     5  3539   286   681   527    30\n",
      "  1136  1099   967   794  4878    18  6822   664  3290   780     0     0\n",
      "     0     0     0     0     0     0     0     0     0     0     0     0\n",
      "     0     0     0     0     0     0]\n"
     ]
    }
   ],
   "source": [
    "# pad documents to a max length of 150 words\n",
    "max_length = 150\n",
    "X_train_padded_docs = pad_sequences(X_train_encoded_docs, maxlen=max_length, padding='post')\n",
    "X_test_padded_docs = pad_sequences(X_test_encoded_docs, maxlen=max_length, padding='post')\n",
    "\n",
    "print(X_train_padded_docs[0])\n"
   ]
  },
  {
   "cell_type": "code",
   "execution_count": 69,
   "id": "constitutional-conjunction",
   "metadata": {},
   "outputs": [
    {
     "data": {
      "text/plain": [
       "array([0, 1, 1, 1, 0, 1, 0, 0, 1, 0])"
      ]
     },
     "execution_count": 69,
     "metadata": {},
     "output_type": "execute_result"
    }
   ],
   "source": [
    "X_train_padded_docs.shape\n",
    "y_train[:10]\n"
   ]
  },
  {
   "cell_type": "markdown",
   "id": "contemporary-sharp",
   "metadata": {},
   "source": [
    "## Google word2vec"
   ]
  },
  {
   "cell_type": "code",
   "execution_count": 122,
   "id": "utility-booth",
   "metadata": {},
   "outputs": [],
   "source": [
    "# using google word embeddings\n",
    "# create a weight matrix for words in training docs\n",
    "embedding_matrix = np.zeros((vocab_size, 300))\n",
    "\n",
    "for word, i in t.word_index.items():\n",
    "    \n",
    "    try:\n",
    "        embedding_vector = google_embeddings[word]\n",
    "    \n",
    "        if embedding_vector is not None:\n",
    "            embedding_matrix[i] = embedding_vector \n",
    "    except:\n",
    "        pass"
   ]
  },
  {
   "cell_type": "code",
   "execution_count": 131,
   "id": "demographic-narrow",
   "metadata": {},
   "outputs": [],
   "source": [
    "def create_model():\n",
    "    # define the model\n",
    "    model = Sequential()\n",
    "    e = Embedding(vocab_size, 300, weights=[embedding_matrix], input_length=max_length, trainable=False)\n",
    "    model.add(e)\n",
    "    model.add(LSTM(100, dropout=0.2)) # reduce layer to 100 -> 75 -> 50 -> 25. Try to add ReLU activation function\n",
    "    #model.add(LeakyReLU())\n",
    "    model.add(Flatten())\n",
    "    model.add(Dense(2, activation='sigmoid'))\n",
    "\n",
    "\n",
    "    # compile the model\n",
    "    model.compile(optimizer='adam', loss='binary_crossentropy', metrics=['accuracy'])\n",
    "\n",
    "    # summarize the model\n",
    "    model.summary()\n",
    "    return model"
   ]
  },
  {
   "cell_type": "code",
   "execution_count": 124,
   "id": "ready-casino",
   "metadata": {
    "scrolled": false
   },
   "outputs": [
    {
     "name": "stdout",
     "output_type": "stream",
     "text": [
      "Model: \"sequential_10\"\n",
      "_________________________________________________________________\n",
      "Layer (type)                 Output Shape              Param #   \n",
      "=================================================================\n",
      "embedding_10 (Embedding)     (None, 150, 300)          12743100  \n",
      "_________________________________________________________________\n",
      "lstm_10 (LSTM)               (None, 100)               160400    \n",
      "_________________________________________________________________\n",
      "flatten_10 (Flatten)         (None, 100)               0         \n",
      "_________________________________________________________________\n",
      "dense_10 (Dense)             (None, 2)                 202       \n",
      "=================================================================\n",
      "Total params: 12,903,702\n",
      "Trainable params: 160,602\n",
      "Non-trainable params: 12,743,100\n",
      "_________________________________________________________________\n",
      "Epoch 1/60\n",
      "111/111 [==============================] - 19s 148ms/step - loss: 0.6690 - accuracy: 0.5535 - val_loss: 0.6549 - val_accuracy: 0.5797\n",
      "Epoch 2/60\n",
      "111/111 [==============================] - 14s 122ms/step - loss: 0.6290 - accuracy: 0.6569 - val_loss: 0.6124 - val_accuracy: 0.6481\n",
      "Epoch 3/60\n",
      "111/111 [==============================] - 12s 109ms/step - loss: 0.6195 - accuracy: 0.6664 - val_loss: 0.6221 - val_accuracy: 0.6203\n",
      "Epoch 4/60\n",
      "111/111 [==============================] - 13s 121ms/step - loss: 0.6381 - accuracy: 0.6177 - val_loss: 0.6210 - val_accuracy: 0.7089\n",
      "Epoch 5/60\n",
      "111/111 [==============================] - 16s 141ms/step - loss: 0.6597 - accuracy: 0.5722 - val_loss: 0.6731 - val_accuracy: 0.5291\n",
      "Epoch 6/60\n",
      "111/111 [==============================] - 13s 120ms/step - loss: 0.6529 - accuracy: 0.5780 - val_loss: 0.6792 - val_accuracy: 0.6835\n",
      "Epoch 7/60\n",
      "111/111 [==============================] - 15s 136ms/step - loss: 0.6266 - accuracy: 0.6635 - val_loss: 0.5777 - val_accuracy: 0.7291\n",
      "Epoch 8/60\n",
      "111/111 [==============================] - 14s 128ms/step - loss: 0.6171 - accuracy: 0.6489 - val_loss: 0.5903 - val_accuracy: 0.7089\n",
      "Epoch 9/60\n",
      "111/111 [==============================] - 13s 118ms/step - loss: 0.6165 - accuracy: 0.6564 - val_loss: 0.6537 - val_accuracy: 0.5570\n",
      "Epoch 10/60\n",
      "111/111 [==============================] - 16s 141ms/step - loss: 0.6317 - accuracy: 0.6230 - val_loss: 0.6854 - val_accuracy: 0.5443\n",
      "Epoch 11/60\n",
      "111/111 [==============================] - 12s 113ms/step - loss: 0.6636 - accuracy: 0.5732 - val_loss: 0.6670 - val_accuracy: 0.5443\n",
      "Epoch 12/60\n",
      "111/111 [==============================] - 14s 124ms/step - loss: 0.6187 - accuracy: 0.6242 - val_loss: 0.6769 - val_accuracy: 0.6076\n",
      "Epoch 13/60\n",
      "111/111 [==============================] - 13s 118ms/step - loss: 0.6671 - accuracy: 0.5812 - val_loss: 0.6204 - val_accuracy: 0.6329\n",
      "Epoch 14/60\n",
      "111/111 [==============================] - 12s 108ms/step - loss: 0.5548 - accuracy: 0.7443 - val_loss: 0.6025 - val_accuracy: 0.6608\n",
      "Epoch 15/60\n",
      "111/111 [==============================] - 13s 119ms/step - loss: 0.6112 - accuracy: 0.6717 - val_loss: 0.5807 - val_accuracy: 0.7063\n",
      "Epoch 16/60\n",
      "111/111 [==============================] - 13s 115ms/step - loss: 0.5651 - accuracy: 0.7103 - val_loss: 0.5620 - val_accuracy: 0.7291\n",
      "Epoch 17/60\n",
      "111/111 [==============================] - 14s 123ms/step - loss: 0.5978 - accuracy: 0.6834 - val_loss: 0.6116 - val_accuracy: 0.6380\n",
      "Epoch 18/60\n",
      "111/111 [==============================] - 12s 110ms/step - loss: 0.6068 - accuracy: 0.6649 - val_loss: 0.6113 - val_accuracy: 0.6405\n",
      "Epoch 19/60\n",
      "111/111 [==============================] - 12s 112ms/step - loss: 0.5847 - accuracy: 0.6775 - val_loss: 0.6001 - val_accuracy: 0.6532\n",
      "Epoch 20/60\n",
      "111/111 [==============================] - 12s 108ms/step - loss: 0.5859 - accuracy: 0.6748 - val_loss: 0.5807 - val_accuracy: 0.6759\n",
      "Epoch 21/60\n",
      "111/111 [==============================] - 12s 105ms/step - loss: 0.5575 - accuracy: 0.7252 - val_loss: 0.6597 - val_accuracy: 0.6405\n",
      "Epoch 22/60\n",
      "111/111 [==============================] - 12s 107ms/step - loss: 0.6053 - accuracy: 0.6814 - val_loss: 0.5452 - val_accuracy: 0.7139\n",
      "Epoch 23/60\n",
      "111/111 [==============================] - 12s 105ms/step - loss: 0.5210 - accuracy: 0.7481 - val_loss: 0.4998 - val_accuracy: 0.7266\n",
      "Epoch 24/60\n",
      "111/111 [==============================] - 11s 102ms/step - loss: 0.5738 - accuracy: 0.6733 - val_loss: 0.5915 - val_accuracy: 0.7570\n",
      "Epoch 25/60\n",
      "111/111 [==============================] - 12s 104ms/step - loss: 0.5594 - accuracy: 0.7393 - val_loss: 0.6653 - val_accuracy: 0.5595\n",
      "Epoch 26/60\n",
      "111/111 [==============================] - 12s 105ms/step - loss: 0.6458 - accuracy: 0.5721 - val_loss: 0.6483 - val_accuracy: 0.5494\n",
      "Epoch 27/60\n",
      "111/111 [==============================] - 14s 129ms/step - loss: 0.6245 - accuracy: 0.5858 - val_loss: 0.6265 - val_accuracy: 0.6278\n",
      "Epoch 28/60\n",
      "111/111 [==============================] - 13s 119ms/step - loss: 0.6111 - accuracy: 0.6290 - val_loss: 0.6467 - val_accuracy: 0.5544\n",
      "Epoch 29/60\n",
      "111/111 [==============================] - 11s 102ms/step - loss: 0.6181 - accuracy: 0.5983 - val_loss: 0.6341 - val_accuracy: 0.5823\n",
      "Epoch 30/60\n",
      "111/111 [==============================] - 12s 105ms/step - loss: 0.5883 - accuracy: 0.6537 - val_loss: 0.5290 - val_accuracy: 0.7747\n",
      "Epoch 31/60\n",
      "111/111 [==============================] - 12s 107ms/step - loss: 0.6214 - accuracy: 0.6458 - val_loss: 0.6496 - val_accuracy: 0.5570\n",
      "Epoch 32/60\n",
      "111/111 [==============================] - 13s 113ms/step - loss: 0.6294 - accuracy: 0.5905 - val_loss: 0.5964 - val_accuracy: 0.6835\n",
      "Epoch 33/60\n",
      "111/111 [==============================] - 12s 107ms/step - loss: 0.5622 - accuracy: 0.7247 - val_loss: 0.7257 - val_accuracy: 0.5367\n",
      "Epoch 34/60\n",
      "111/111 [==============================] - 12s 108ms/step - loss: 0.6112 - accuracy: 0.6256 - val_loss: 0.5341 - val_accuracy: 0.7418\n",
      "Epoch 35/60\n",
      "111/111 [==============================] - 12s 106ms/step - loss: 0.4888 - accuracy: 0.7878 - val_loss: 0.5204 - val_accuracy: 0.7696\n",
      "Epoch 36/60\n",
      "111/111 [==============================] - 12s 105ms/step - loss: 0.5436 - accuracy: 0.7261 - val_loss: 0.4928 - val_accuracy: 0.8000\n",
      "Epoch 37/60\n",
      "111/111 [==============================] - 12s 105ms/step - loss: 0.4905 - accuracy: 0.7875 - val_loss: 0.7370 - val_accuracy: 0.5570\n",
      "Epoch 38/60\n",
      "111/111 [==============================] - 12s 109ms/step - loss: 0.6635 - accuracy: 0.5824 - val_loss: 0.6545 - val_accuracy: 0.5468\n",
      "Epoch 39/60\n",
      "111/111 [==============================] - 12s 105ms/step - loss: 0.6346 - accuracy: 0.5838 - val_loss: 0.6172 - val_accuracy: 0.6177\n",
      "Epoch 40/60\n",
      "111/111 [==============================] - 12s 112ms/step - loss: 0.5939 - accuracy: 0.6913 - val_loss: 0.6600 - val_accuracy: 0.5241\n",
      "Epoch 41/60\n",
      "111/111 [==============================] - 14s 124ms/step - loss: 0.6403 - accuracy: 0.5670 - val_loss: 0.6281 - val_accuracy: 0.6051\n",
      "Epoch 42/60\n",
      "111/111 [==============================] - 12s 111ms/step - loss: 0.6073 - accuracy: 0.6058 - val_loss: 0.6358 - val_accuracy: 0.5139\n",
      "Epoch 43/60\n",
      "111/111 [==============================] - 11s 102ms/step - loss: 0.5938 - accuracy: 0.6231 - val_loss: 0.5221 - val_accuracy: 0.7544\n",
      "Epoch 44/60\n",
      "111/111 [==============================] - 13s 117ms/step - loss: 0.5232 - accuracy: 0.7461 - val_loss: 0.5178 - val_accuracy: 0.7848\n",
      "Epoch 45/60\n",
      "111/111 [==============================] - 12s 107ms/step - loss: 0.5136 - accuracy: 0.7622 - val_loss: 0.4804 - val_accuracy: 0.7797\n",
      "Epoch 46/60\n",
      "111/111 [==============================] - 11s 96ms/step - loss: 0.4788 - accuracy: 0.7839 - val_loss: 0.4748 - val_accuracy: 0.7873\n",
      "Epoch 47/60\n",
      "111/111 [==============================] - 11s 95ms/step - loss: 0.4962 - accuracy: 0.7726 - val_loss: 0.5476 - val_accuracy: 0.7392\n",
      "Epoch 48/60\n",
      "111/111 [==============================] - 11s 101ms/step - loss: 0.5208 - accuracy: 0.7258 - val_loss: 0.4973 - val_accuracy: 0.7797\n",
      "Epoch 49/60\n",
      "111/111 [==============================] - 11s 100ms/step - loss: 0.5137 - accuracy: 0.7453 - val_loss: 0.5141 - val_accuracy: 0.7620\n",
      "Epoch 50/60\n",
      "111/111 [==============================] - 11s 100ms/step - loss: 0.4732 - accuracy: 0.7695 - val_loss: 0.5198 - val_accuracy: 0.7848\n",
      "Epoch 51/60\n"
     ]
    },
    {
     "name": "stdout",
     "output_type": "stream",
     "text": [
      "111/111 [==============================] - 11s 103ms/step - loss: 0.5176 - accuracy: 0.7556 - val_loss: 0.5533 - val_accuracy: 0.7570\n",
      "Epoch 52/60\n",
      "111/111 [==============================] - 11s 100ms/step - loss: 0.5292 - accuracy: 0.7323 - val_loss: 0.4937 - val_accuracy: 0.8000\n",
      "Epoch 53/60\n",
      "111/111 [==============================] - 11s 97ms/step - loss: 0.4490 - accuracy: 0.8163 - val_loss: 0.4497 - val_accuracy: 0.8127\n",
      "Epoch 54/60\n",
      "111/111 [==============================] - 11s 98ms/step - loss: 0.4150 - accuracy: 0.8219 - val_loss: 0.4217 - val_accuracy: 0.8304\n",
      "Epoch 55/60\n",
      "111/111 [==============================] - 11s 98ms/step - loss: 0.3810 - accuracy: 0.8396 - val_loss: 0.4211 - val_accuracy: 0.8101\n",
      "Epoch 56/60\n",
      "111/111 [==============================] - 11s 96ms/step - loss: 0.3654 - accuracy: 0.8485 - val_loss: 0.4205 - val_accuracy: 0.8228\n",
      "Epoch 57/60\n",
      "111/111 [==============================] - 11s 97ms/step - loss: 0.3626 - accuracy: 0.8532 - val_loss: 0.3953 - val_accuracy: 0.8354\n",
      "Epoch 58/60\n",
      "111/111 [==============================] - 11s 97ms/step - loss: 0.3419 - accuracy: 0.8614 - val_loss: 0.3774 - val_accuracy: 0.8456\n",
      "Epoch 59/60\n",
      "111/111 [==============================] - 11s 100ms/step - loss: 0.3304 - accuracy: 0.8640 - val_loss: 0.4018 - val_accuracy: 0.8354\n",
      "Epoch 60/60\n",
      "111/111 [==============================] - 11s 97ms/step - loss: 0.3226 - accuracy: 0.8754 - val_loss: 0.3654 - val_accuracy: 0.8506\n"
     ]
    }
   ],
   "source": [
    "# google model\n",
    "model_google = create_model()\n",
    "history_google = model_google.fit(X_train_padded_docs, Y_train, epochs=60, verbose=1, validation_split=0.1) \n"
   ]
  },
  {
   "cell_type": "code",
   "execution_count": 125,
   "id": "naughty-tribute",
   "metadata": {
    "scrolled": false
   },
   "outputs": [
    {
     "name": "stdout",
     "output_type": "stream",
     "text": [
      "31/31 [==============================] - 1s 34ms/step - loss: 0.4219 - accuracy: 0.8288\n",
      "Test Set: \n",
      " Loss: 0.422\n",
      " Accuracy: 0.829\n"
     ]
    }
   ],
   "source": [
    "# google vector accuracy\n",
    "accuracy_google = model_google.evaluate(X_test_padded_docs, Y_test)\n",
    "print(\"Test Set: \\n Loss: {:0.3f}\\n Accuracy: {:0.3f}\".format(accuracy_google[0], accuracy_google[1]))"
   ]
  },
  {
   "cell_type": "code",
   "execution_count": 126,
   "id": "durable-agriculture",
   "metadata": {},
   "outputs": [
    {
     "data": {
      "image/png": "[encoded data removed]",
      "text/plain": [
       "<Figure size 432x288 with 1 Axes>"
      ]
     },
     "metadata": {
      "needs_background": "light"
     },
     "output_type": "display_data"
    }
   ],
   "source": [
    "# google vectors\n",
    "\n",
    "# \"Loss\"\n",
    "plt.plot(history_google.history['loss'])\n",
    "plt.plot(history_google.history['val_loss'])\n",
    "plt.title('model loss')\n",
    "plt.ylabel('loss')\n",
    "plt.xlabel('epoch')\n",
    "plt.legend(['train', 'validation'], loc='upper left')\n",
    "plt.show()"
   ]
  },
  {
   "cell_type": "code",
   "execution_count": 127,
   "id": "crude-marsh",
   "metadata": {},
   "outputs": [
    {
     "data": {
      "image/png": "[encoded data removed]",
      "text/plain": [
       "<Figure size 432x288 with 1 Axes>"
      ]
     },
     "metadata": {
      "needs_background": "light"
     },
     "output_type": "display_data"
    }
   ],
   "source": [
    "# google vectors\n",
    "\n",
    "# \"Accuracy\"\n",
    "plt.plot(history_google.history['accuracy'])\n",
    "plt.plot(history_google.history['val_accuracy'])\n",
    "plt.title('model accuracy')\n",
    "plt.ylabel('accuracy')\n",
    "plt.xlabel('epoch')\n",
    "plt.legend(['train', 'validation'], loc='upper left')\n",
    "plt.show()"
   ]
  },
  {
   "cell_type": "markdown",
   "id": "exterior-dependence",
   "metadata": {},
   "source": [
    "## Glove vector"
   ]
  },
  {
   "cell_type": "code",
   "execution_count": 130,
   "id": "weighted-architecture",
   "metadata": {},
   "outputs": [],
   "source": [
    "# glove vector model\n",
    "# create a weight matrix for words in training docs\n",
    "embedding_matrix = np.zeros((vocab_size, 300))\n",
    "\n",
    "for word, i in t.word_index.items():\n",
    "    \n",
    "    try:\n",
    "        embedding_vector = glove_embeddings[word]\n",
    "    \n",
    "        if embedding_vector is not None:\n",
    "            embedding_matrix[i] = embedding_vector \n",
    "    except:\n",
    "        pass"
   ]
  },
  {
   "cell_type": "code",
   "execution_count": null,
   "id": "expected-mills",
   "metadata": {
    "scrolled": true
   },
   "outputs": [
    {
     "name": "stdout",
     "output_type": "stream",
     "text": [
      "Model: \"sequential_11\"\n",
      "_________________________________________________________________\n",
      "Layer (type)                 Output Shape              Param #   \n",
      "=================================================================\n",
      "embedding_11 (Embedding)     (None, 150, 300)          12743100  \n",
      "_________________________________________________________________\n",
      "lstm_11 (LSTM)               (None, 100)               160400    \n",
      "_________________________________________________________________\n",
      "flatten_11 (Flatten)         (None, 100)               0         \n",
      "_________________________________________________________________\n",
      "dense_11 (Dense)             (None, 2)                 202       \n",
      "=================================================================\n",
      "Total params: 12,903,702\n",
      "Trainable params: 160,602\n",
      "Non-trainable params: 12,743,100\n",
      "_________________________________________________________________\n",
      "Epoch 1/60\n",
      " 87/111 [======================>.......] - ETA: 2s - loss: 0.6671 - accuracy: 0.5551"
     ]
    }
   ],
   "source": [
    "# glove vector model\n",
    "model_glove = create_model()\n",
    "history_glove = model_glove.fit(X_train_padded_docs, Y_train, epochs=60, verbose=1, validation_split=0.1)\n",
    "\n"
   ]
  },
  {
   "cell_type": "code",
   "execution_count": 117,
   "id": "norman-battle",
   "metadata": {
    "scrolled": false
   },
   "outputs": [
    {
     "name": "stdout",
     "output_type": "stream",
     "text": [
      "31/31 [==============================] - 1s 34ms/step - loss: 0.4862 - accuracy: 0.8351\n",
      "Test Set: \n",
      " Loss: 0.486\n",
      " Accuracy: 0.835\n"
     ]
    }
   ],
   "source": [
    "# evaluate the model2 on the test set\n",
    "accuracy_glove = model_glove.evaluate(X_test_padded_docs, Y_test)\n",
    "print(\"Test Set: \\n Loss: {:0.3f}\\n Accuracy: {:0.3f}\".format(accuracy_glove[0], accuracy_glove[1]))"
   ]
  },
  {
   "cell_type": "code",
   "execution_count": 118,
   "id": "surface-infection",
   "metadata": {
    "scrolled": false
   },
   "outputs": [
    {
     "data": {
      "image/png": "[encoded data removed]",
      "text/plain": [
       "<Figure size 432x288 with 1 Axes>"
      ]
     },
     "metadata": {
      "needs_background": "light"
     },
     "output_type": "display_data"
    }
   ],
   "source": [
    "# glove vectors\n",
    "\n",
    "# \"Loss\"\n",
    "plt.plot(history_glove.history['loss'])\n",
    "plt.plot(history_glove.history['val_loss'])\n",
    "plt.title('model loss')\n",
    "plt.ylabel('loss')\n",
    "plt.xlabel('epoch')\n",
    "plt.legend(['train', 'validation'], loc='upper left')\n",
    "plt.show()"
   ]
  },
  {
   "cell_type": "code",
   "execution_count": 120,
   "id": "acknowledged-conviction",
   "metadata": {
    "scrolled": true
   },
   "outputs": [
    {
     "data": {
      "image/png": "[encoded data removed]",
      "text/plain": [
       "<Figure size 432x288 with 1 Axes>"
      ]
     },
     "metadata": {
      "needs_background": "light"
     },
     "output_type": "display_data"
    }
   ],
   "source": [
    "# glove vectors\n",
    "\n",
    "# \"Accuracy\"\n",
    "plt.plot(history_glove.history['accuracy'])\n",
    "plt.plot(history_glove.history['val_accuracy'])\n",
    "plt.title('model accuracy')\n",
    "plt.ylabel('accuracy')\n",
    "plt.xlabel('epoch')\n",
    "plt.legend(['train', 'validation'], loc='upper left')\n",
    "plt.show()"
   ]
  },
  {
   "cell_type": "markdown",
   "id": "exterior-dependence",
   "metadata": {},
   "source": [
    "## Glove vector"
   ]
  },
  {
   "cell_type": "code",
   "execution_count": 108,
   "id": "stylish-damages",
   "metadata": {},
   "outputs": [],
   "source": [
    "# test accuracy on personal vs professional emails\n",
    "predictions = model_glove.predict(X_test_padded_docs) "
   ]
  },
  {
   "cell_type": "code",
   "execution_count": null,
   "id": "random-fitness",
   "metadata": {},
   "outputs": [],
   "source": [
    "def get_accuracy(predictons, y_test):\n",
    "    prof = 0\n",
    "    pers = 0\n",
    "    num_each = y_test / 2\n",
    "    return (prof / float(num_each), pers / float(num_each))\n",
    "    "
   ]
  },
  {
   "cell_type": "markdown",
   "id": "removable-shell",
   "metadata": {},
   "source": [
    "### Results with original dataset"
   ]
  },
  {
   "cell_type": "code",
   "execution_count": null,
   "id": "entertaining-synthesis",
   "metadata": {},
   "outputs": [],
   "source": [
    "'''\n",
    "LSTM with 100 nodes\n",
    "Results - Google:(with original file)\n",
    "- Adam: 0.854 accuracy, 0.508 loss\n",
    "- RMSProp: 0.879 accuracy, 0.468 loss\n",
    "Results - GloVe:(with original file)\n",
    "- Adam: 0.876 accuracy, 0.349 loss  \n",
    "- RMSProp: 0.884 accuracy, 0.581 loss \n",
    "\n",
    "\n",
    "LSTM with 75 nodes\n",
    "Results - Google:(with original file)\n",
    "- Adam: 0.859 accuracy, 0.374 loss\n",
    "- RMSProp: 0.882 accuracy, 0.500 loss \n",
    "Results - GloVe:(with original file)\n",
    "- Adam: 0.882 accuracy, 0.463 loss  \n",
    "- RMSProp:0.877 accuracy, 0.507 loss\n",
    "\n",
    "\n",
    "LSTM with 50 nodes\n",
    "Results - Google:(with original file)\n",
    "- Adam: 0.846 accuracy, 0.379 loss\n",
    "- RMSProp: 0.869 accuracy 0.504 loss\n",
    "Results - GloVe:(with original file)\n",
    "- Adam: 0.872 accuracy, 0.498 loss\n",
    "- RMSProp: 0.879 accuracy, 0.476 loss  \n",
    "'''"
   ]
  },
  {
   "cell_type": "markdown",
   "id": "regulation-methodology",
   "metadata": {},
   "source": [
    "### Results with other dataset"
   ]
  },
  {
   "cell_type": "code",
   "execution_count": null,
   "id": "sitting-fossil",

   "metadata": {},
   "outputs": [
    {
     "name": "stdout",
     "output_type": "stream",
     "text": [
      "Model: \"sequential_20\"\n",
      "_________________________________________________________________\n",
      "Layer (type)                 Output Shape              Param #   \n",
      "=================================================================\n",
      "embedding_20 (Embedding)     (None, 150, 300)          12743100  \n",
      "_________________________________________________________________\n",
      "lstm_20 (LSTM)               (None, 100)               160400    \n",
      "_________________________________________________________________\n",
      "flatten_20 (Flatten)         (None, 100)               0         \n",
      "_________________________________________________________________\n",
      "dense_20 (Dense)             (None, 2)                 202       \n",
      "=================================================================\n",
      "Total params: 12,903,702\n",
      "Trainable params: 160,602\n",
      "Non-trainable params: 12,743,100\n",
      "_________________________________________________________________\n"
     ]
    }
   ],
   "source": [
    "'''\n",
    "LSTM with 100 nodes\n",
    "Results - Google:(with new file)\n",
    "- Adam: 0.829 accuracy, 0.422 loss\n",
    "- RMSProp: \n",
    "Results - GloVe:\n",
    "- Adam: \n",
    "- RMSProp:\n",
    "\n",
    "\n",
    "LSTM with 75 nodes\n",
    "Results - Google:(with new file)\n",
    "- Adam: \n",
    "- RMSProp: \n",
    "Results - GloVe:\n",
    "- Adam: \n",
    "- RMSProp: 0.835 accuracy, 0.486 loss # udated \n",
    "\n",
    "\n",
    "LSTM with 50 nodes\n",
    "Results - Google:(with original file)\n",
    "- Adam:  \n",
    "- RMSProp: \n",
    "Results - GloVe:(with original file)\n",
    "- Adam: \n",
    "- RMSProp:\n",
    "'''\n",
    "'''\n",
    "Ideas:4\n",
    "- use only the \"personal\" xfolder \n",
    "- try different folders \n",
    "'''"
   ]
  },
  {
   "cell_type": "markdown",
   "id": "unnecessary-stability",
   "metadata": {},
   "source": [
    "## Saving model with Best Performance"
   ]
  },
  {
   "cell_type": "code",
   "execution_count": null,
   "id": "transparent-richards",
   "metadata": {},
   "outputs": [],
   "source": [
    "# model: GLoVe model with rmsprop optimizer, 100 nodes, second dataset \n",
    "model_glove.save(\"personal_professional.h5\")\n"
   ]
  },
  {
   "cell_type": "code",
   "execution_count": null,
   "id": "macro-depth",
   "metadata": {},
   "outputs": [],
   "source": [
    "# loading model\n",
    "from numpy import loadtxt\n",
    "from keras.models import load_model\n",
    " \n",
    "# load model\n",
    "model = load_model('personal_professional.h5')\n",
    "# summarize model.\n",
    "model.summary()\n"
   ]
  },
  {
   "cell_type": "code",
   "execution_count": null,
   "id": "accessible-tiffany",
   "metadata": {},
   "outputs": [],
   "source": [
    "# imports\n",
    "from gensim.models import KeyedVectors\n",
    "from gensim.scripts.glove2word2vec import glove2word2vec\n",
    "\n",
    "from keras.preprocessing.text import Tokenizer\n",
    "from keras.preprocessing.sequence import pad_sequences\n",
    "\n",
    "# data cleaning\n",
    "import re\n",
    "import string\n",
    "from nltk.corpus import stopwords\n",
    "\n"
   ]
  },
  {
   "cell_type": "code",
   "execution_count": null,
   "id": "geographic-aspect",
   "metadata": {},
   "outputs": [],
   "source": [
    "# predict model --> to be integrated\n",
    "# \"personal_tag\": ppModel(v)\n",
    "# helper method to prepreocess data before putting it into model\n",
    "# loading glove vectors\n",
    "    \n",
    "# exists in the file \n",
    "glove_file = \"/Users/ryanle/Desktop/GTSpring2021/CS4440/Project/NLP/glove/glove.6B/glove.6B.300d.txt\"\n",
    "glove_word2vec_file = \"/Users/ryanle/Desktop/GTSpring2021/CS4440/Project/NLP/glove/glove.6B/glove.6B.100d.txt.word2vec\"\n",
    "glove2word2vec(glove_file, glove_word2vec_file)\n",
    "# glove embeddings\n",
    "glove_embeddings = KeyedVectors.load_word2vec_format(glove_word2vec_file, binary=False)"
   ]
  },
  {
   "cell_type": "code",
   "execution_count": null,
   "id": "identical-access",
   "metadata": {},
   "outputs": [],
   "source": [
    "def clean(x):\n",
    "    # lowercasing all the words\n",
    "    x = x.lower()\n",
    "    \n",
    "    # remove extra new lines\n",
    "    x = re.sub(r'\\n+', ' ', x)\n",
    "    \n",
    "    # removing (replacing with empty spaces actually) all the punctuations\n",
    "    x = re.sub(\"[\"+string.punctuation+\"]\", \" \", x)\n",
    "    \n",
    "    # remove extra white spaces\n",
    "    x = re.sub(r'\\s+', ' ', x)\n",
    "    \n",
    "    stop = stopwords.words('english')\n",
    "    new = \"\"\n",
    "    for word in x.split():\n",
    "        if word not in stop:\n",
    "            new+= \" \" + word\n",
    "    return new\n"
   ]
  },
  {
   "cell_type": "code",
   "execution_count": null,
   "id": "automatic-alexander",
   "metadata": {},
   "outputs": [],
   "source": [
    "def preprocess(x):\n",
    "    email = [clean(x)]\n",
    "    # integer encode the documents\n",
    "    \n",
    "    # prepare tokenizer\n",
    "    t = Tokenizer()\n",
    "\n",
    "    # fit the tokenizer on the docs\n",
    "    t.fit_on_texts(email)\n",
    "    vocab_size = len(t.word_index) + 1\n",
    "    \n",
    "    email = t.texts_to_sequences(email)\n",
    "    max_length = 150\n",
    "    # pad documents to a max length of 150 words\n",
    "    text = pad_sequences(email, maxlen=max_length, padding='post')\n",
    "    # glove vector model\n",
    "    # create a weight matrix for words in training docs\n",
    "    return text\n"
   ]
  },
  {
   "cell_type": "code",
   "execution_count": null,
   "id": "dried-marble",
   "metadata": {},
   "outputs": [],
   "source": [
    "def ppModel(email):\n",
    "    body = email[\"body\"] # this will reference the body of the email\n",
    "    subject = email[\"subject\"] # this will reference the subject of the email\n",
    "    text = subject + \" \" + body\n",
    "    preprocessed = [preprocess(text)]\n",
    "    output = model.predict(preprocessed)\n",
    "    print(output)\n",
    "    if (output[0][0] > output[0][1]):\n",
    "        return \"True\"\n",
    "    return \"False\"\n"
   ]
  },
  {
   "cell_type": "markdown",
   "id": "welsh-slope",
   "metadata": {},
   "source": [
    "### Manual Tests"
   ]
  },
  {
   "cell_type": "code",
   "execution_count": null,
   "id": "leading-official",
   "metadata": {},
   "outputs": [],
   "source": [
    "x = {\"subject\": \"VACATION\", \n",
    "     \"body\": \"Jeff, I received the rent roll.  I am going to be in San Marcos this weekend but I  am booked with stage coach.  I will drive by Friday evening. I will let you know next week if I need to see the inside.  Can you find out when Chelsea Villa last changed hands and for what price? What about getting a look at the site plans for the Burnet deal.  Remember  we have to get Brenda happy. Phillip\"}"
   ]
  },
  {
   "cell_type": "code",
   "execution_count": null,
   "id": "swedish-acting",
   "metadata": {},
   "outputs": [],
   "source": [
    "x =  {\"subject\": \"Re: Meeting to discuss 2001 direct expense plan?\", \n",
    "     \"body\": \"Suzanne, Can you give me more details or email  the plan prior to meeting?  What do I need to provide besides headcount? Otherwise any afternoon next week would be fine Phillip\"}"
   ]
  },
  {
   "cell_type": "code",
   "execution_count": null,
   "id": "educated-controversy",
   "metadata": {},
   "outputs": [],
   "source": [
    "x = {\"subject\": \"Re: VaR by Curve\",\n",
    "    \"body\": \"why is aeco basis so low on the list?  Is NWPL mapped differently than AECO? What about the correlation to Nymex on AECO?\" }\n",
    "\n",
    "\n"
   ]
  },
  {
   "cell_type": "code",
   "execution_count": null,
   "id": "latest-gates",
   "metadata": {},
   "outputs": [],
   "source": [
    "x = {\"subject\": \"\",\n",
    "     \"body\": \"enron astroworld tickets enron announces unlimited discounted astroworld tickets employees due overwhelming employee feedback negotiated unlimited discounted astroworld tickets family place traditional enron day astroworld hope allow enron families plan fun filled summer trips astroworld convenience enron astroworld tickets 20 56 retail 50 includes admission one plus 7 meal ticket one five restaurants astroworld six flags astroworld world class family entertainment complex filled exciting rides attractions including 10 heart pounding coasters 40 blockbuster shows interactive street entertainers star studded concerts enron families able purchase unlimited tickets use anytime 2001 season tickets sale enron federal credit union eb0399 visit credit union person make purchases astroworld tickets mailed enron employees already enron fcu members may pay cash money order enron employees encouraged take advantage great summer fun deal may purchase tickets august 30th\"\n",
    "}"
   ]
  },
  {
   "cell_type": "code",
   "execution_count": null,
   "id": "careful-chase",
   "metadata": {},
   "outputs": [],
   "source": [
    "print(ppModel(x))"
   ]
  }
 ],
 "metadata": {
  "kernelspec": {
   "display_name": "Python 3",
   "language": "python",
   "name": "python3"
  },
  "language_info": {
   "codemirror_mode": {
    "name": "ipython",
    "version": 3
   },
   "file_extension": ".py",
   "mimetype": "text/x-python",
   "name": "python",
   "nbconvert_exporter": "python",
   "pygments_lexer": "ipython3",
   "version": "3.8.7"
  }
 },
 "nbformat": 4,
 "nbformat_minor": 5
}
